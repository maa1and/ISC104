{
  "nbformat": 4,
  "nbformat_minor": 0,
  "metadata": {
    "colab": {
      "provenance": [],
      "mount_file_id": "11CAP3T2Ol2em7rMthzoP1D__QpFS08c0",
      "authorship_tag": "ABX9TyOXGLjnc56/JflyLlDlF5od",
      "include_colab_link": true
    },
    "kernelspec": {
      "name": "python3",
      "display_name": "Python 3"
    },
    "language_info": {
      "name": "python"
    }
  },
  "cells": [
    {
      "cell_type": "markdown",
      "metadata": {
        "id": "view-in-github",
        "colab_type": "text"
      },
      "source": [
        "<a href=\"https://colab.research.google.com/github/maa1and/maa1and/blob/main/ISC104_week5_271021_Mana_Asano.ipynb\" target=\"_parent\"><img src=\"https://colab.research.google.com/assets/colab-badge.svg\" alt=\"Open In Colab\"/></a>"
      ]
    },
    {
      "cell_type": "code",
      "execution_count": 4,
      "metadata": {
        "colab": {
          "base_uri": "https://localhost:8080/"
        },
        "id": "a9SmObiNYazD",
        "outputId": "0777b21c-3028-4b77-8e30-6a11484da200"
      },
      "outputs": [
        {
          "output_type": "stream",
          "name": "stdout",
          "text": [
            "abcd\n",
            "1234\n",
            "\n"
          ]
        }
      ],
      "source": [
        "#EX5_1 外部ファイルをインポートし文字列を表示する\n",
        "f = open('week5-test.txt')\n",
        "content= f.read()\n",
        "print(content)\n",
        "f.close()"
      ]
    },
    {
      "cell_type": "code",
      "source": [
        "#EX5_2 外部ファイルをインポートし行数と文字列を表示する\n",
        "f = open(\"week5-test.txt\")\n",
        "content = f.read()\n",
        "a = 0 #行数カウンタ\n",
        "wordlist =content.split() #ファイルに含まれる文字列を単語ごとにリストに格納\n",
        "for i in wordlist:\n",
        "  a += 1\n",
        "  print(a, i)\n",
        "f.close()"
      ],
      "metadata": {
        "colab": {
          "base_uri": "https://localhost:8080/"
        },
        "id": "ZLebWVl-aw1F",
        "outputId": "993f3afe-b0fd-48d0-ee94-bc9570c2276f"
      },
      "execution_count": 5,
      "outputs": [
        {
          "output_type": "stream",
          "name": "stdout",
          "text": [
            "1 abcd\n",
            "2 1234\n"
          ]
        }
      ]
    },
    {
      "cell_type": "code",
      "source": [
        "#EX5_3 テキストの最初の10行だけを表示する\n",
        "f = open(\"icuhistory.txt\")\n",
        "content = f.read() #print(content)で全文を確認\n",
        "linelist = content.splitlines()\n",
        "for i in range(1, 11):\n",
        "  print(i, linelist[i-1])\n",
        "f.close()\n",
        "#最初の10行が行数と共に表示されていることを確認"
      ],
      "metadata": {
        "id": "GvR8t00memnR",
        "colab": {
          "base_uri": "https://localhost:8080/"
        },
        "outputId": "1b4253e9-2e0d-4431-f6f9-6bca437b24e6"
      },
      "execution_count": 6,
      "outputs": [
        {
          "output_type": "stream",
          "name": "stdout",
          "text": [
            "1 in the fall of 1945 just weeks after the end\n",
            "2 of world war ii a group of japanese christian educators\n",
            "3 initiated a move to establish a university based on christian\n",
            "4 principles the foreign missions conference of north america and the\n",
            "5 us education mission both visiting japan at the time\n",
            "6 gave their wholehearted support conveying this plan to people in\n",
            "7 the us amidst the post-war yearning for reconciliation and\n",
            "8 world peace americans supported this project with great enthusiasm in\n",
            "9 1948 the japan international christian university foundation jicuf was\n",
            "10 established in new york to coordinate fund-raising efforts in the\n"
          ]
        }
      ]
    },
    {
      "cell_type": "code",
      "source": [
        "#EX5_4 テキストの中から\"icu\"の文字が含まれる行だけを表示する\n",
        "f = open(\"icuhistory.txt\")\n",
        "content = f.read()\n",
        "linelist = content.splitlines()\n",
        "for i in linelist:\n",
        "  wordfinder = i.find(\"icu\") #print(i, wordfinder)で表示される行を確認\n",
        "  if wordfinder != -1:\n",
        "    print(i)\n",
        "f.close()\n",
        "#\"icu\"の文字が含まれる7行が表示されていることを確認"
      ],
      "metadata": {
        "id": "_g2BQMU9gGrv",
        "colab": {
          "base_uri": "https://localhost:8080/"
        },
        "outputId": "db434c45-ae64-42a1-f63e-095dd225db3b"
      },
      "execution_count": 7,
      "outputs": [
        {
          "output_type": "stream",
          "name": "stdout",
          "text": [
            "1948 the japan international christian university foundation jicuf was\n",
            "lead the national fund raising drive icu has been unique from\n",
            "in 1950 icu purchased a spacious site in mitaka city\n",
            "in march 1953 the japanese ministry of education authorized icu\n",
            "science and technology selected icu s research and education\n",
            "icu for its fiscal year 2007 distinctive university education support\n",
            "icu is continually working to reconfirm its responsibilities and fulfill\n"
          ]
        }
      ]
    },
    {
      "cell_type": "code",
      "source": [
        "#EX5_5 テキストに含まれる総単語数と固有単語数を調べる\n",
        "all_wordlist = []\n",
        "f = open('icuhistory.txt','r')\n",
        "for line in f: #p14の方法で全ての単語をリストに格納する\n",
        "  striped = line.rstrip()\n",
        "  words = striped.split(\" \") #テキストをスペースごとに区切り、wordsに格納\n",
        "  for word in words:\n",
        "    all_wordlist.append(word)\n",
        "f.close()\n",
        "print(\"total number of words:\", len(all_wordlist))\n",
        "\n",
        "unique_wordlist = []\n",
        "f = open('icuhistory.txt','r')\n",
        "for line in f: #p14の方法で全ての単語をリストに格納する\n",
        "  striped = line.rstrip()\n",
        "  words = striped.split(\" \")\n",
        "  for word in words:\n",
        "    if not word in unique_wordlist: #wordがwordsリストに含まれていない場合、単語をunique_wordlistに追加\n",
        "      unique_wordlist.append(word)\n",
        "f.close()\n",
        "print(\"total number of unique words:\", len(unique_wordlist))\n",
        "#単語リストを作る時は、list = str.split(\" \")でもいいのではないかと思った\n",
        "\n",
        "#EX5_6 単語をkey、単語のテキストにおける登場回数をvalueとする辞書を作成する\n",
        "word_countlist = {}\n",
        "f = open('icuhistory.txt','r')\n",
        "for word in unique_wordlist: #unique_wordlistからそれぞれの単語を取得\n",
        "  word_countlist[word] = all_wordlist.count(word) #keyに単語を、valueに登場回数を割り当ててword_countlistに追加\n",
        "  f.close()\n",
        "print(word_countlist)\n",
        "#試しにprint(all_wordlist.count(\"the\"))の実行をしたところ、word_countlistのキーが\"the\"の時のvalueと一致することを確認"
      ],
      "metadata": {
        "id": "27NCfj7ridN9",
        "colab": {
          "base_uri": "https://localhost:8080/"
        },
        "outputId": "c00601aa-1731-44af-bddd-7c278ca38341"
      },
      "execution_count": 8,
      "outputs": [
        {
          "output_type": "stream",
          "name": "stdout",
          "text": [
            "total number of words: 548\n",
            "total number of unique words: 274\n",
            "{'in': 19, 'the': 40, 'fall': 1, 'of': 26, '1945': 1, 'just': 1, 'weeks': 1, 'after': 1, 'end': 2, 'world': 2, 'war': 1, 'ii': 1, 'a': 13, 'group': 1, 'japanese': 4, 'christian': 6, 'educators': 1, 'initiated': 1, 'move': 1, 'to': 12, 'establish': 2, 'university': 8, 'based': 1, 'on': 5, 'principles': 2, 'foreign': 1, 'missions': 1, 'conference': 2, 'north': 2, 'america': 1, 'and': 18, 'us': 3, 'education': 7, 'mission': 2, 'both': 1, 'visiting': 1, 'japan': 6, 'at': 2, 'time': 2, 'gave': 1, 'their': 5, 'wholehearted': 1, 'support': 4, 'conveying': 1, 'this': 3, 'plan': 2, 'people': 2, 'amidst': 1, 'post-war': 2, 'yearning': 1, 'for': 9, 'reconciliation': 1, 'peace': 3, 'americans': 1, 'supported': 1, 'project': 1, 'with': 7, 'great': 1, 'enthusiasm': 1, '1948': 1, 'international': 3, 'foundation': 2, 'jicuf': 1, 'was': 3, 'established': 1, 'new': 4, 'york': 1, 'coordinate': 1, 'fund-raising': 1, 'efforts': 2, 'also': 2, 'found': 1, 'hope': 1, 'cause': 1, 'dedicated': 2, 'toworld': 1, 'organizations': 1, 'firms': 1, 'individuals': 1, 'made': 1, 'donations': 2, 'ambitious': 1, 'undertaking': 1, 'regardless': 1, 'religious': 1, 'orientation': 1, 'anddespite': 1, 'often': 1, 'destitute': 1, 'circumstances': 1, 'immediate': 1, 'years': 1, 'bank': 1, 'governor': 1, 'hisato': 1, 'ichimada': 1, 'headed': 1, 'supporting': 1, 'organization': 2, 'lead': 1, 'national': 2, 'fund': 1, 'raising': 1, 'drive': 1, 'icu': 6, 'has': 1, 'been': 2, 'unique': 1, 'from': 3, 'its': 7, 'inception': 1, 'endowment': 1, 'procured': 1, 'through': 2, 'good': 2, 'will': 1, 'transcending': 1, 'borders': 1, 'june': 1, '15': 1, '1949': 1, 'american': 2, 'leaders': 1, 'convened': 1, 'gotemba': 2, 'ymca': 1, 'camp': 1, 'inauguration': 1, 'board': 2, 'trustees': 1, 'councillors': 1, 'founding': 1, 'fundamental': 1, 'educational': 4, 'were': 1, 'laid': 1, 'down': 1, 'establishing': 1, 'an': 3, 'interdenominational': 1, 'had': 2, 'dream': 1, 'christians': 1, 'half': 1, 'century': 2, 'finally': 1, 'realized': 1, 'aspirations': 1, '1950': 1, 'purchased': 1, 'spacious': 1, 'site': 1, 'mitaka': 1, 'city': 1, 'outskirts': 1, 'tokyo': 1, 'it': 1, 'received': 1, 'within': 1, 'campus': 1, 'april': 3, '29': 1, '1952': 1, 'language': 1, 'institute': 1, 'set': 1, 'up': 1, 'first': 2, 'year': 4, 'march': 2, '1953': 1, 'ministry': 2, 'authorized': 1, 'as': 4, 'incorporated': 1, 'institution': 1, 'college': 4, 'liberal': 6, 'arts': 8, 'opening': 1, '1': 1, 'four-year': 1, 'celebrated': 1, '50th': 1, 'anniversary': 1, '1999': 1, 'diverse': 2, 'events': 1, 'projects': 1, 'during': 1, 'commemorative': 1, 'five': 1, 'period': 1, 'leading': 1, '2004': 1, '2003': 1, 'culture': 1, 'sports': 1, 'science': 1, 'technology': 1, 'selected': 1, 's': 2, 'research': 1, 'security': 1, 'conviviality': 1, '21st': 1, 'center': 1, 'excellence': 1, 'program': 3, 'nurture': 2, 'responsible': 1, 'global': 1, 'citizens': 1, 'distinctive': 2, 'practice': 1, '2008': 2, 'academic': 4, 'reform': 2, 'enforced': 1, 'which': 1, 'replaced': 1, 'system': 2, 'six': 1, 'divisions': 2, 'division': 1, 'sciences': 2, 'majors': 1, 'all': 1, 'students': 3, 'simply': 1, 'start': 1, 'making': 1, 'choice': 1, 'major': 1, '31': 1, 'areas': 1, 'by': 1, 'sophomore': 1, 'now': 1, 'have': 1, 'more': 1, 'make': 1, 'decision': 1, 'while': 1, 'they': 1, 'study': 1, 'subjects': 1, 'general': 1, 'courses': 1, 'mext': 1, 'chose': 1, 'fiscal': 1, '2007': 1, 'learning': 1, 'advising': 1, 'planning': 1, 'acknowledgement': 1, 'improvement': 1, '2010': 1, 'graduate': 1, 'school': 2, 'conducted': 1, 'integrated': 1, 'four': 1, 'into': 1, 'is': 1, 'continually': 1, 'working': 1, 'reconfirm': 1, 'responsibilities': 1, 'fulfill': 1, 'changing': 1, 'times': 1, '': 1}\n"
          ]
        }
      ]
    },
    {
      "cell_type": "code",
      "source": [
        "#EX5_7 生徒のIDをkey、点数をvalueとする辞書を作成する\n",
        "f = open(\"scorelist.txt\")\n",
        "scoredict = {}\n",
        "scorelist = [] #EX5_8で使う点数リストを作っておく\n",
        "for line in f:\n",
        "  striped = line.strip()\n",
        "  elms = striped.split(\" \")\n",
        "  scoredict[elms[0]] = int(elms[1])\n",
        "  scorelist.append(int(elms[1]))\n",
        "f.close()\n",
        "print(scoredict)\n",
        "\n",
        "#EX5_8 平均点を求める\n",
        "print(\"average:\", sum(scorelist) / len(scorelist)) #scorelistから点数の合計と人数を取得\n",
        "\n",
        "#EX5_9 点数によってA,B,C,D,Eの成績評価をする\n",
        "a = [] #A~Eの空のリストを作る\n",
        "b = [] #a=0といったカウント変数を定義してもいいが、リストにしたほうが後で確かめやすいと思った\n",
        "c = []\n",
        "d = []\n",
        "e = []\n",
        "for score in scorelist: #scorelistに格納された点数によって場合分けしリストに格納\n",
        "  if score >= 90:\n",
        "    a.append(score)\n",
        "  elif 80 <= score < 90:\n",
        "    b.append(score)\n",
        "  elif 70 <= score < 80:\n",
        "    c.append(score)\n",
        "  elif 60 <= score < 70:\n",
        "    d.append(score)\n",
        "  else:\n",
        "    e.append(score) #print(list)でそれぞれの成績が何人いるか確かめた\n",
        "print(\"A:\", len(a), \"B:\", len(b), \"C:\", len(c), \"D:\", len(d), \"E:\", len(e))\n",
        "#リストで確認した通りの人数が成績ごとに表示されることを確認"
      ],
      "metadata": {
        "id": "thwYkze6oil5",
        "colab": {
          "base_uri": "https://localhost:8080/"
        },
        "outputId": "2f064062-cb69-4231-af7d-7dafc23971d2"
      },
      "execution_count": 35,
      "outputs": [
        {
          "output_type": "stream",
          "name": "stdout",
          "text": [
            "{'121787': 74, '121367': 71, '121817': 88, '121619': 85, '131445': 80, '131244': 96, '131872': 98, '131963': 75, '131172': 78, '131965': 72, '131112': 90, '131956': 87, '141105': 61, '141703': 61, '141407': 78, '141569': 82, '141585': 89, '141455': 82, '141370': 80, '141837': 67, '141857': 86, '141497': 94, '141853': 67, '141245': 80, '151452': 83, '151238': 62, '151827': 58, '151409': 40, '151789': 95, '151742': 71, '151133': 40, '151095': 49, '151186': 75, '151586': 51, '151926': 73, '151975': 96, '151079': 49, '151091': 100, '151588': 49, '151630': 61}\n",
            "average: 74.325\n",
            "A: 7 B: 11 C: 9 D: 6 E: 7\n"
          ]
        }
      ]
    },
    {
      "cell_type": "code",
      "source": [
        "#EX5_10 ファイルの読み込み・書き込み・検索ができる日記アプリを作成する\n",
        "import os\n",
        "file_path = 'diary.txt' #ファイルが存在するか確認するモジュール\n",
        "\n",
        "print(\"Diary Management\") #メニュー画面\n",
        "print(\"1. Add a new diary\")\n",
        "print(\"2. List all diary entries\")\n",
        "print(\"3. Serch diary by date\")\n",
        "print(\"4. Exit\")\n",
        "choice = int(input(\"Enter your choice:\")) #1~4を数字で入力\n",
        "\n",
        "if choice == 1: #日付と日記の内容をファイルに書き込むプログラム\n",
        "  f = open(\"diary.txt\", \"a\")  #追記可能なモードでファイルを開く\n",
        "  date = input(\"Enter the date (YYYY-MM-DD):\")\n",
        "  print(\"Date:\", date)\n",
        "  diary = input(\"Enter your diary entry:\")\n",
        "  print(\"Diary entry added\")\n",
        "  print(date, diary, file = f) #日付と内容を１行で書き込む\n",
        "  f.close()\n",
        "\n",
        "elif choice == 2: #全ての日付と日記を読み込むプログラム\n",
        "  if not os.path.exists(\"diary.txt\"):\n",
        "    print(\"Enter the date(YYYY-MM-DD) to serch:\") #ファイルの存在を確認\n",
        "  else:\n",
        "    print(\"---All Diary Entries---\")\n",
        "    f = open(\"diary.txt\")\n",
        "    content = f.read()\n",
        "    print(content)\n",
        "  f.close()\n",
        "\n",
        "elif choice == 3: #日付から日記を検索するプログラム\n",
        "  f = open(\"diary.txt\")\n",
        "  diarydict = {} #日付をkey、内容をvalueとする辞書を作成\n",
        "  datelist = [] #記録された日付を格納するリスト\n",
        "  for line in f:\n",
        "    striped = line.strip()\n",
        "    elms = striped.split(\" \")\n",
        "    diarydict[elms[0]] = elms[1]\n",
        "    datelist.append(elms[0])\n",
        "  search_date = input(\"Enter the date(YYYY-MM-DD) to serch:\")\n",
        "  if search_date in datelist: #入力した日付がdatelistにある場合、日付と内容を表示\n",
        "    print(search_date, diarydict[search_date])\n",
        "  elif not search_date in datelist: #日付が存在しない場合\n",
        "    print(\"No entris found for that date\")\n",
        "  elif not os.path.exists(\"diary.txt\"): #ファイルが存在しない場合\n",
        "    print(\"Enter the date(YYYY-MM-DD) to serch:\")\n",
        "  f.close()\n",
        "\n",
        "elif choice == 4:\n",
        "  print(\"Exiting the diary management tool.\")\n",
        "\n",
        "else:\n",
        "  print(\"Error!\") #1~4以外の数字をメニュー画面で入力した場合に表示\n",
        "#辞書にするとkeyが重複したらvalueが上書きされてしまうため、同じ日に複数の日記を記録する方法がわからなかった\n",
        "#ファイルが存在するかどうかは、モジュールを使う方法しかわからなかったが使わなくてもできるのか？"
      ],
      "metadata": {
        "colab": {
          "base_uri": "https://localhost:8080/"
        },
        "id": "YkHERtKSiXna",
        "outputId": "d4d7f7fe-acb7-4523-b18a-887ada4e3d3d"
      },
      "execution_count": 41,
      "outputs": [
        {
          "output_type": "stream",
          "name": "stdout",
          "text": [
            "Diary Management\n",
            "1. Add a new diary\n",
            "2. List all diary entries\n",
            "3. Serch diary by date\n",
            "4. Exit\n",
            "Enter your choice:2\n",
            "---All Diary Entries---\n",
            "2024-10-14 test\n",
            "2023-10-22 aaa\n",
            "2024-10-25 a\n",
            "2024-10-15 a\n",
            "2021-11-11 abc\n",
            "\n"
          ]
        }
      ]
    },
    {
      "cell_type": "code",
      "source": [
        "from google.colab import drive\n",
        "drive.mount('/content/drive')"
      ],
      "metadata": {
        "id": "lr5VQSY_2fpw"
      },
      "execution_count": null,
      "outputs": []
    }
  ]
}
