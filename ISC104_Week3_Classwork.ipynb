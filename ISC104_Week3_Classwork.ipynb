{
  "nbformat": 4,
  "nbformat_minor": 0,
  "metadata": {
    "colab": {
      "provenance": [],
      "authorship_tag": "ABX9TyOUBHI8O8rQzlDpcZZbgDlC",
      "include_colab_link": true
    },
    "kernelspec": {
      "name": "python3",
      "display_name": "Python 3"
    },
    "language_info": {
      "name": "python"
    }
  },
  "cells": [
    {
      "cell_type": "markdown",
      "metadata": {
        "id": "view-in-github",
        "colab_type": "text"
      },
      "source": [
        "<a href=\"https://colab.research.google.com/github/maa1and/maa1and/blob/main/ISC104_Week3_Classwork.ipynb\" target=\"_parent\"><img src=\"https://colab.research.google.com/assets/colab-badge.svg\" alt=\"Open In Colab\"/></a>"
      ]
    },
    {
      "cell_type": "code",
      "execution_count": null,
      "metadata": {
        "colab": {
          "base_uri": "https://localhost:8080/"
        },
        "id": "en_Clhq-Mfks",
        "outputId": "cd419605-156e-40b0-fe1d-848e39cc30ff"
      },
      "outputs": [
        {
          "output_type": "stream",
          "name": "stdout",
          "text": [
            "[1, 4, 2]\n",
            "[]\n"
          ]
        }
      ],
      "source": [
        "#p5\n",
        "mylist = [1,4,2] #宣言は変数と同じ\n",
        "print(mylist)\n",
        "nulllist = [] #空のリストも宣言できる\n",
        "print(nulllist)"
      ]
    },
    {
      "cell_type": "code",
      "source": [
        "#p6\n",
        "strlist = ['abc','word','student']\n",
        "duplist = ['abc', 'abc', 'abc']\n",
        "mixlist = [123,'abc', 3.141592, \"あ\"] #要素のデータ型は統一されていなくても良い\n",
        "\n",
        "print(type(strlist)) #「リスト」もデータ型\n",
        "print(type(duplist))\n",
        "print(type(mixlist))\n",
        "\n",
        "print(len(strlist)) #len(リスト名)で要素の数がわかる\n",
        "print(len(duplist))\n",
        "print(len(mixlist))"
      ],
      "metadata": {
        "colab": {
          "base_uri": "https://localhost:8080/"
        },
        "id": "gEPrFEpON7Ps",
        "outputId": "1b6ca4cb-0be3-4855-973d-643e34fead06"
      },
      "execution_count": null,
      "outputs": [
        {
          "output_type": "stream",
          "name": "stdout",
          "text": [
            "<class 'list'>\n",
            "<class 'list'>\n",
            "<class 'list'>\n",
            "3\n",
            "3\n",
            "4\n"
          ]
        }
      ]
    },
    {
      "cell_type": "code",
      "source": [
        "#p7\n",
        "mylist = ['a','b','c'] #インデックス番号は0,1,2・・・\n",
        "print(mylist[0])\n",
        "print(mylist[2])\n",
        "\n",
        "mylist[0] = 'b' #要素の更新\n",
        "print(mylist)"
      ],
      "metadata": {
        "id": "HaYK-FrJPGPG",
        "colab": {
          "base_uri": "https://localhost:8080/"
        },
        "outputId": "399d791a-74c1-43f7-9d24-37d1508c7f78"
      },
      "execution_count": 8,
      "outputs": [
        {
          "output_type": "stream",
          "name": "stdout",
          "text": [
            "a\n",
            "c\n",
            "['b', 'b', 'c']\n"
          ]
        }
      ]
    },
    {
      "cell_type": "code",
      "source": [
        "#p8-9\n",
        "mylist = ['a','b','c']\n",
        "for i in range(len(mylist)):\n",
        "  print(mylist[i]) #mylistのi番目（ちなみにrangeカウントも0,1,2・・・)\n",
        "\n",
        "for elm in mylist: #よりシンプルな形\n",
        "  print(elm)"
      ],
      "metadata": {
        "colab": {
          "base_uri": "https://localhost:8080/"
        },
        "id": "56f51BIUZEoh",
        "outputId": "28d0e83a-acc8-4596-8bdd-6f3ce52ab9d9"
      },
      "execution_count": 10,
      "outputs": [
        {
          "output_type": "stream",
          "name": "stdout",
          "text": [
            "a\n",
            "b\n",
            "c\n",
            "a\n",
            "b\n",
            "c\n"
          ]
        }
      ]
    },
    {
      "cell_type": "code",
      "source": [
        "#p10\n",
        "mylist = ['a','b','c','a','c']\n",
        "for elm in mylist:\n",
        "  if elm == 'a':\n",
        "    elm = 'b'\n",
        "print(mylist) #aはbに置き換わらない\n",
        "\n",
        "mylist = ['a','b','c','a','c']\n",
        "for i in range(len(mylist)):\n",
        "  if mylist[i] == 'a':\n",
        "    mylist[i] = 'b'\n",
        "print(mylist) #置き換わる"
      ],
      "metadata": {
        "colab": {
          "base_uri": "https://localhost:8080/"
        },
        "id": "lew0f0GL4ZY8",
        "outputId": "144747d4-99f4-44b2-8b3e-41fdbd44282c"
      },
      "execution_count": 15,
      "outputs": [
        {
          "output_type": "stream",
          "name": "stdout",
          "text": [
            "['a', 'b', 'c', 'a', 'c']\n",
            "['b', 'b', 'c', 'b', 'c']\n"
          ]
        }
      ]
    },
    {
      "cell_type": "code",
      "source": [
        "#p11-12\n",
        "mylist = ['c','b','a']\n",
        "print(sorted(mylist)) #sort(リスト名)=文字型は辞書順、数値は前から順番に\n",
        "\n",
        "mylist = [3,2,4,4] #以下の関数は数値型のみ対応\n",
        "print(max(mylist))\n",
        "print(min(mylist))\n",
        "print(sum(mylist))\n",
        "\n",
        "numlist = [1,3,3,3,3,3,3,3,3,5,5,4]\n",
        "print(numlist.count(3)) #リスト名.count(数)=その数がリストにいくつ含まれるか\n",
        "\n",
        "for i in range(max(numlist)+1): #数え上げ\n",
        "  print(i, numlist.count(i))\n",
        "\n",
        "numlist = [1,3,5] #このプログラムが何を目的にしているのかわからない\n",
        "for i in range(5):\n",
        "  if not i in numlist:\n",
        "    print(i)"
      ],
      "metadata": {
        "colab": {
          "base_uri": "https://localhost:8080/"
        },
        "id": "3eWXnRDw5Til",
        "outputId": "dadb808f-974b-4540-8365-cfbd765085ae"
      },
      "execution_count": 22,
      "outputs": [
        {
          "output_type": "stream",
          "name": "stdout",
          "text": [
            "['a', 'b', 'c']\n",
            "4\n",
            "2\n",
            "13\n",
            "8\n",
            "0 0\n",
            "1 1\n",
            "2 0\n",
            "3 8\n",
            "4 1\n",
            "5 2\n",
            "0\n",
            "2\n",
            "4\n"
          ]
        }
      ]
    },
    {
      "cell_type": "code",
      "source": [
        "#p13\n",
        "mylist = ['a','b','c'] #リストの末尾に要素を追加\n",
        "mylist.append('d')\n",
        "print(mylist)\n",
        "\n",
        "addlist = ['e','f']\n",
        "print(mylist+addlist)\n",
        "\n",
        "mylist.extend(addlist) #list1.extend(list2)=list2にlist1を追加（1は維持される）\n",
        "print(mylist)\n",
        "\n",
        "mylist.pop(0) #リスト名.pop(index番号)=該当する要素を削除\n",
        "print(mylist)\n",
        "\n",
        "mylist.remove('e') #同じ値が複数ある場合は最初だけ削除\n",
        "print(mylist)"
      ],
      "metadata": {
        "colab": {
          "base_uri": "https://localhost:8080/"
        },
        "id": "pPDTmCBu7zMb",
        "outputId": "383cf7e6-162a-4fbc-cf32-212f99c04a28"
      },
      "execution_count": 23,
      "outputs": [
        {
          "output_type": "stream",
          "name": "stdout",
          "text": [
            "['a', 'b', 'c', 'd']\n",
            "['a', 'b', 'c', 'd', 'e', 'f']\n",
            "['a', 'b', 'c', 'd', 'e', 'f']\n",
            "['b', 'c', 'd', 'e', 'f']\n",
            "['b', 'c', 'd', 'f']\n"
          ]
        }
      ]
    },
    {
      "cell_type": "code",
      "source": [
        "#14\n",
        "evenlist = [] #空のリストを用意\n",
        "for i in range(10):\n",
        "  if i % 2 == 0:\n",
        "    evenlist.append(i) #条件に当てはまる値がリストに格納される\n",
        "print(evenlist)"
      ],
      "metadata": {
        "colab": {
          "base_uri": "https://localhost:8080/"
        },
        "id": "Ni46VkmB9mrY",
        "outputId": "7ef36e54-9518-46a8-e4cf-f47056b3433c"
      },
      "execution_count": 25,
      "outputs": [
        {
          "output_type": "stream",
          "name": "stdout",
          "text": [
            "[0, 2, 4, 6, 8]\n"
          ]
        }
      ]
    },
    {
      "cell_type": "code",
      "source": [
        "#p16\n",
        "mylist = ['a','b','c','d','e']\n",
        "print(mylist[1:4]) #リスト名[n:m]=n番目からm-1番目の要素をリストとして取得\n",
        "\n",
        "mylist1 = [0]*5 #同じ要素でリストを生成\n",
        "print(mylist1)\n",
        "mylist2 = ['a']*5\n",
        "print(mylist2)"
      ],
      "metadata": {
        "colab": {
          "base_uri": "https://localhost:8080/"
        },
        "id": "L8h0V4Rr-COk",
        "outputId": "01a49c55-34c5-443d-82d8-90f0612d42ed"
      },
      "execution_count": 26,
      "outputs": [
        {
          "output_type": "stream",
          "name": "stdout",
          "text": [
            "['b', 'c', 'd']\n",
            "[0, 0, 0, 0, 0]\n",
            "['a', 'a', 'a', 'a', 'a']\n"
          ]
        }
      ]
    },
    {
      "cell_type": "code",
      "source": [
        "#p18\n",
        "access_users = ['u1', 'u2', 'u2', 'u3', 'u2', 'u1']\n",
        "unique_users = set(access_users) #要素が重複しないリストを生成\n",
        "print(\"Unique user list: \", unique_users)\n",
        "print(\"Number of unique users: \", len(unique_users))"
      ],
      "metadata": {
        "colab": {
          "base_uri": "https://localhost:8080/"
        },
        "id": "YJVqp_b3-1fa",
        "outputId": "aeb242ab-5ce1-4c08-912c-afa72bd53c5a"
      },
      "execution_count": 27,
      "outputs": [
        {
          "output_type": "stream",
          "name": "stdout",
          "text": [
            "Unique user list:  {'u3', 'u1', 'u2'}\n",
            "Number of unique users:  3\n"
          ]
        }
      ]
    }
  ]
}