{
  "nbformat": 4,
  "nbformat_minor": 0,
  "metadata": {
    "colab": {
      "provenance": [],
      "authorship_tag": "ABX9TyOLcTqjyrO57AxdW+8+Qffj",
      "include_colab_link": true
    },
    "kernelspec": {
      "name": "python3",
      "display_name": "Python 3"
    },
    "language_info": {
      "name": "python"
    }
  },
  "cells": [
    {
      "cell_type": "markdown",
      "metadata": {
        "id": "view-in-github",
        "colab_type": "text"
      },
      "source": [
        "<a href=\"https://colab.research.google.com/github/maa1and/maa1and/blob/main/Copy_of_ISC104_Week1_InClassNotebook.ipynb\" target=\"_parent\"><img src=\"https://colab.research.google.com/assets/colab-badge.svg\" alt=\"Open In Colab\"/></a>"
      ]
    },
    {
      "cell_type": "code",
      "source": [
        "#EX1_1\n",
        "x = 158\n",
        "print(str(x) + \"cm\")\n",
        "x /= 100\n",
        "print(str(x) + \"m\")\n",
        "\n",
        "#自分の身長を表示した\n",
        "#自分の身長をcmからmに変換するためにxを100で割ってから表示した"
      ],
      "metadata": {
        "id": "mri-FGFZUSDj",
        "colab": {
          "base_uri": "https://localhost:8080/"
        },
        "outputId": "bfd19d07-6b35-4585-9046-dd1fafbf7102"
      },
      "execution_count": null,
      "outputs": [
        {
          "output_type": "stream",
          "name": "stdout",
          "text": [
            "158cm\n",
            "1.58m\n"
          ]
        }
      ]
    },
    {
      "cell_type": "code",
      "source": [
        "#EX1_2\n",
        "x = 158\n",
        "if x > 170:\n",
        "  print(\"L\")\n",
        "else:\n",
        "  print(\"not L\")\n",
        "\n",
        "#条件分岐によって自分の身長に対応する文章を表示させた"
      ],
      "metadata": {
        "colab": {
          "base_uri": "https://localhost:8080/"
        },
        "id": "WbsBuSYaeuVD",
        "outputId": "1a65aed6-f421-41b1-a141-4717d79a3a91"
      },
      "execution_count": null,
      "outputs": [
        {
          "output_type": "stream",
          "name": "stdout",
          "text": [
            "not L\n"
          ]
        }
      ]
    },
    {
      "cell_type": "code",
      "source": [
        "#EX1_3\n",
        "PAY = 32\n",
        "tencoin = PAY // 10\n",
        "PAY -= tencoin * 10\n",
        "onecoin = PAY\n",
        "print(\"10円玉が\"+ str(tencoin) + \"枚と1円玉が\" + str(onecoin) + \"枚必要です\")\n",
        "\n",
        "#32円支払うには何枚の10円玉と1円玉が必要か数えるようにプログラムした\n",
        "#1円玉の枚数が最小になるようにしたが、すべての数え方のパターンを列挙するには？"
      ],
      "metadata": {
        "colab": {
          "base_uri": "https://localhost:8080/"
        },
        "id": "cUmXO8OyexBA",
        "outputId": "27acf19d-3bb9-4c13-f37c-01fad09058b9"
      },
      "execution_count": null,
      "outputs": [
        {
          "output_type": "stream",
          "name": "stdout",
          "text": [
            "10円玉が3枚と1円玉が2枚必要です\n"
          ]
        }
      ]
    },
    {
      "cell_type": "code",
      "source": [
        "#EX1_4\n",
        "PAY = int(input(\"支払い金額を入力してください\"))\n",
        "tencoin = PAY // 10\n",
        "PAY -= tencoin * 10\n",
        "onecoin = PAY\n",
        "print(\"10円玉が\"+ str(tencoin) + \"枚と1円玉が\" + str(onecoin) + \"枚必要です\")\n",
        "\n",
        "#入力された金額に応じて何枚の10円玉と1円玉が必要か数えるようにプログラムした\n",
        "#1円玉の枚数が最小になるようにした"
      ],
      "metadata": {
        "id": "DEabnRahe2yH",
        "colab": {
          "base_uri": "https://localhost:8080/"
        },
        "outputId": "f03eec0c-1ebc-4088-f401-8ff60481e168"
      },
      "execution_count": null,
      "outputs": [
        {
          "output_type": "stream",
          "name": "stdout",
          "text": [
            "支払い金額を入力してください399\n",
            "10円玉が39枚と1円玉が9枚必要です\n"
          ]
        }
      ]
    },
    {
      "cell_type": "code",
      "source": [
        "#EX1_5\n",
        "strec = int(input(\"0から86399までの数値を入力してください\"))\n",
        "h = strec // 3600\n",
        "strec -=h * 3600\n",
        "m = strec // 60\n",
        "strec -= m * 60\n",
        "s = strec\n",
        "print(str(h) + \"h\" + str(m) + \"m\" + str(s) + \"s\")\n",
        "\n",
        "#入力された数値に応じて時間・分・秒に変換するようにプログラムした\n",
        "#切り捨て除算の演算子を使って整数部分だけを求めた"
      ],
      "metadata": {
        "colab": {
          "base_uri": "https://localhost:8080/"
        },
        "id": "SFQBfiYMe8AZ",
        "outputId": "000614ab-3109-46ec-c295-81da1d7316a9"
      },
      "execution_count": null,
      "outputs": [
        {
          "output_type": "stream",
          "name": "stdout",
          "text": [
            "0から86399までの数値を入力してください3691\n",
            "1h1m31s\n"
          ]
        }
      ]
    },
    {
      "cell_type": "code",
      "source": [
        "#EX1_6\n",
        "password = \"ICU\"\n",
        "input_pass = str(input(\"パスワードを入力してください\"))\n",
        "if password == input_pass:\n",
        "  print(\"pass\")\n",
        "else:\n",
        "  print(\"fail\")\n",
        "\n",
        "#あらかじめ設定されたパスワードと入力されたパスワードが一致するかどうか判定するようにプログラムした"
      ],
      "metadata": {
        "colab": {
          "base_uri": "https://localhost:8080/"
        },
        "id": "uLnmmVa-e71Q",
        "outputId": "d757e6a1-5f8a-4fc1-ddee-88501ce2dcd2"
      },
      "execution_count": null,
      "outputs": [
        {
          "output_type": "stream",
          "name": "stdout",
          "text": [
            "パスワードを入力してくださいDDD\n",
            "fail\n"
          ]
        }
      ]
    },
    {
      "cell_type": "code",
      "source": [
        "#EX1_7\n",
        "while True:\n",
        "  password = str(input(\"パスワードを設定してください\"))\n",
        "  if len(password) < 4:\n",
        "      print(\"Enter longer password\")\n",
        "      continue\n",
        "  else:\n",
        "      print(\"Password set\")\n",
        "      break\n",
        "\n",
        "input_pass = str(input())\n",
        "if password == input_pass:\n",
        "  print(\"pass\")\n",
        "else:\n",
        "  print(\"fail\")\n",
        "\n",
        "#４文字以上のパスワードを設定した上で入力された入力されたパスワードが一致するかどうか判定するようにプログラムした\n",
        "#設定時にパスワードが４文字より短い場合はプログラムを最初からやり直すようにした"
      ],
      "metadata": {
        "colab": {
          "base_uri": "https://localhost:8080/"
        },
        "id": "0RmsmBgRe7fZ",
        "outputId": "18be9589-62bb-433d-d6cb-03987a5c4f2c"
      },
      "execution_count": null,
      "outputs": [
        {
          "output_type": "stream",
          "name": "stdout",
          "text": [
            "パスワードを設定してくださいICU\n",
            "Enter longer password\n",
            "パスワードを設定してくださいICUD\n",
            "Password set\n",
            "ICUD\n",
            "pass\n"
          ]
        }
      ]
    },
    {
      "cell_type": "code",
      "source": [
        "#EX1_8\n",
        "counter = 0\n",
        "for x in range(10):\n",
        "  if x % 3 == 0:\n",
        "    counter +=1\n",
        "  else:\n",
        "    continue\n",
        "print(counter)\n",
        "\n",
        "#0~10をxに代入し、3で割り切れる場合はcounter変数に1を足し続けるようにプログラミングした\n",
        "#0~10のうち、３で割り切れる数は4つあることが分かった"
      ],
      "metadata": {
        "colab": {
          "base_uri": "https://localhost:8080/"
        },
        "id": "ZCIPvK7nlm7U",
        "outputId": "d3f4e5fd-f886-4491-fa32-285d5a967cb5"
      },
      "execution_count": null,
      "outputs": [
        {
          "output_type": "stream",
          "name": "stdout",
          "text": [
            "4\n"
          ]
        }
      ]
    },
    {
      "cell_type": "code",
      "source": [
        "#EX1_9\n",
        "year = int(input(\"西暦を入力してください\"))\n",
        "if year % 4 == 0:\n",
        "  if year % 100 == 0 and year % 400 != 0:\n",
        "    print(\"not leap\")\n",
        "  else:\n",
        "    print(\"leap\")\n",
        "\n",
        "else:\n",
        "  print(\"not leap\")\n",
        "\n",
        "#入力された西暦に応じて閏年かそうでないかを判定するようにプログラムした\n",
        "#4で割り切れる数のうち、100で割り切れるが400で割り切れないものを例外としてifネストを作った"
      ],
      "metadata": {
        "colab": {
          "base_uri": "https://localhost:8080/"
        },
        "id": "9OPxjPlDm4Ff",
        "outputId": "d2f9b2e9-c7eb-424c-c621-04fdccd3f4a9"
      },
      "execution_count": null,
      "outputs": [
        {
          "output_type": "stream",
          "name": "stdout",
          "text": [
            "西暦を入力してください2000\n",
            "leap\n"
          ]
        }
      ]
    }
  ]
}
