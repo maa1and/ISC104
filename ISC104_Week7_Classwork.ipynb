{
  "nbformat": 4,
  "nbformat_minor": 0,
  "metadata": {
    "colab": {
      "provenance": [],
      "authorship_tag": "ABX9TyMHwhAWN0RJ/jhjHLhfSBZI",
      "include_colab_link": true
    },
    "kernelspec": {
      "name": "python3",
      "display_name": "Python 3"
    },
    "language_info": {
      "name": "python"
    }
  },
  "cells": [
    {
      "cell_type": "markdown",
      "metadata": {
        "id": "view-in-github",
        "colab_type": "text"
      },
      "source": [
        "<a href=\"https://colab.research.google.com/github/maa1and/maa1and/blob/main/ISC104_week7_Classwork.ipynb\" target=\"_parent\"><img src=\"https://colab.research.google.com/assets/colab-badge.svg\" alt=\"Open In Colab\"/></a>"
      ]
    },
    {
      "cell_type": "code",
      "execution_count": 2,
      "metadata": {
        "colab": {
          "base_uri": "https://localhost:8080/"
        },
        "id": "X-z6BeUV3X8G",
        "outputId": "e053795c-0fd7-4e4d-f748-8301e4e894e2"
      },
      "outputs": [
        {
          "output_type": "stream",
          "name": "stdout",
          "text": [
            "10\n",
            "24\n"
          ]
        }
      ],
      "source": [
        "#p4\n",
        "def double(x): #def 関数名(その時々の入力によって変えたい変数、リスト、辞書)\n",
        "  y = 2*x\n",
        "  return y #returnで処理を出力して返す\n",
        "print(double(5))\n",
        "print(double(12))"
      ]
    },
    {
      "cell_type": "code",
      "source": [
        "#p6\n",
        "def ldouble(arglist):\n",
        "  dlist = []\n",
        "  for x in (arglist): #あとで入力されるリスト\n",
        "    dlist.append(x*2)\n",
        "  return dlist #最終的にdlistを出力して返す\n",
        "print(ldouble([1,2,3]))\n",
        "\n",
        "def sumldouble(arglist):\n",
        "  dlist = []\n",
        "  sum = 0\n",
        "  for x in (arglist):\n",
        "    dlist.append(x*2)\n",
        "    sum += x\n",
        "  return sum,dlist #複数の値を同時に出力できる\n",
        "s,dl = sumldouble([1,2,3]) #関数の中の変数をそのまま持ってくることはできないので、新し変数に代入する\n",
        "print(s,dl)\n",
        "\n",
        "def calc_product(x,y): #複数の値を同時に入力できる\n",
        "  return x*y\n",
        "print(calc_product(2,3)) #順番にx,yに代入されるので注意"
      ],
      "metadata": {
        "colab": {
          "base_uri": "https://localhost:8080/"
        },
        "id": "j_MumBZQ5f_D",
        "outputId": "84e77fa8-7c04-4456-ce91-d54c2191f395"
      },
      "execution_count": 5,
      "outputs": [
        {
          "output_type": "stream",
          "name": "stdout",
          "text": [
            "[2, 4, 6]\n",
            "6 [2, 4, 6]\n",
            "6\n"
          ]
        }
      ]
    },
    {
      "cell_type": "code",
      "source": [
        "#p7 補足\n",
        "x,y = 3,5 #Pythonでは一度に複数の変数に代入、使える\n",
        "print(x,y)\n",
        "\n",
        "x,y = [3,5]\n",
        "print(x,y)\n",
        "x,y = [3,5,7]\n",
        "print(x,y) #変数に対して出力が少ないとエラーになる\n",
        "\n",
        "def myfun(x):\n",
        "  return x*2, x*3\n",
        "y = myfun(3) #入力が１に対して出力が２の時、タプルの形で、一度に出力\n",
        "z,w = myfun(3)\n",
        "print(y,z,w)"
      ],
      "metadata": {
        "colab": {
          "base_uri": "https://localhost:8080/"
        },
        "id": "XD7bloF46u1N",
        "outputId": "39fd3e98-a933-4f6a-e1d0-caf29d01c6e3"
      },
      "execution_count": 10,
      "outputs": [
        {
          "output_type": "stream",
          "name": "stdout",
          "text": [
            "3 5\n",
            "3 5\n",
            "(6, 9) 6 9\n"
          ]
        }
      ]
    },
    {
      "cell_type": "code",
      "source": [
        "#p8\n",
        "def myfunc(argstr):\n",
        "  print(argstr) #戻り値を持たない関数\n",
        "myfunc(\"hello\")\n",
        "a = myfunc(\"bye\") #？\n",
        "print(a)\n",
        "\n",
        "import random\n",
        "def gen_twodice(): #引数を持たない関数=入力の必要がない\n",
        "  a = random.choice([1,2,3,4,5,6])\n",
        "  b = random.choice([1,2,3,4,5,6])\n",
        "  return a,b\n",
        "print(gen_twodice())\n",
        "\n",
        "def check_even(x):\n",
        "  if x % 2 == 0: #ifによって戻り値を複数用意\n",
        "    return 'even'\n",
        "  else:\n",
        "    return 'odd'\n",
        "print(check_even(2))\n",
        "#ローカル変数・グローバル変数について復習"
      ],
      "metadata": {
        "colab": {
          "base_uri": "https://localhost:8080/"
        },
        "id": "NvAjL7K19WPu",
        "outputId": "2a444ae5-b647-4f56-ca8b-0cbb344a593e"
      },
      "execution_count": 16,
      "outputs": [
        {
          "output_type": "stream",
          "name": "stdout",
          "text": [
            "hello\n",
            "bye\n",
            "None\n",
            "(3, 3)\n",
            "even\n"
          ]
        }
      ]
    }
  ]
}
