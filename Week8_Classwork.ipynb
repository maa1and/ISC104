{
  "nbformat": 4,
  "nbformat_minor": 0,
  "metadata": {
    "colab": {
      "provenance": [],
      "authorship_tag": "ABX9TyP6U2vspDQzOREdCQCgP1en",
      "include_colab_link": true
    },
    "kernelspec": {
      "name": "python3",
      "display_name": "Python 3"
    },
    "language_info": {
      "name": "python"
    }
  },
  "cells": [
    {
      "cell_type": "markdown",
      "metadata": {
        "id": "view-in-github",
        "colab_type": "text"
      },
      "source": [
        "<a href=\"https://colab.research.google.com/github/maa1and/maa1and/blob/main/Week8_Classwork.ipynb\" target=\"_parent\"><img src=\"https://colab.research.google.com/assets/colab-badge.svg\" alt=\"Open In Colab\"/></a>"
      ]
    },
    {
      "cell_type": "code",
      "execution_count": 9,
      "metadata": {
        "colab": {
          "base_uri": "https://localhost:8080/"
        },
        "id": "HiBL8OZdNBGs",
        "outputId": "409e0557-d5be-409f-dc3e-c252d9377f88"
      },
      "outputs": [
        {
          "output_type": "stream",
          "name": "stdout",
          "text": [
            "8\n",
            "1023\n",
            "19.30600052603572\n"
          ]
        }
      ],
      "source": [
        "#p.5\n",
        "import math\n",
        "def pow2(x):\n",
        "  return 2**x\n",
        "print(pow2(3))\n",
        "\n",
        "def sumfunc(argfun,left,right):\n",
        "  sumval = 0\n",
        "  for x in range(left,right):\n",
        "    sumval += argfun(x) #argfunにpow2やmath.sqrtが入る\n",
        "  return sumval\n",
        "\n",
        "print(sumfunc(pow2,0,10))\n",
        "print(sumfunc(math.sqrt,0,10)) #math.sqrtは平方根を求める\n",
        "#高階関数＝他の関数を引数として受け取ったり戻り値として返す"
      ]
    },
    {
      "cell_type": "code",
      "source": [
        "#p.6\n",
        "#map()\n",
        "import matplotlib.pyplot as plt\n",
        "xlist = list(range(10)) #[0,1,2,... ,9]\n",
        "ylist = list(map(pow2,xlist)) #[2**0, 2**1, . ,2**9]\n",
        "plt.plot(xlist,ylist)\n",
        "plt.show()\n",
        "#map関数＝複数の値に対して関数等の処理を施す"
      ],
      "metadata": {
        "colab": {
          "base_uri": "https://localhost:8080/",
          "height": 430
        },
        "id": "J54CgLm8PdlC",
        "outputId": "4e19015f-f9a2-4abe-b048-a086364542cc"
      },
      "execution_count": 17,
      "outputs": [
        {
          "output_type": "display_data",
          "data": {
            "text/plain": [
              "<Figure size 640x480 with 1 Axes>"
            ],
            "image/png": "[encoded data removed]"
          },
          "metadata": {}
        }
      ]
    },
    {
      "cell_type": "code",
      "source": [
        "#p.8-9\n",
        "#sort()\n",
        "int_list = [3,8,2,1,7,6,4,5,9]\n",
        "int_list.sort() #sort.リストでリストの順番を昇順に変える (reverse=True)で降順\n",
        "print(int_list) #sorted.リストは元のリストを変更せずに並び替えた結果を表示\n",
        "\n",
        "#lamda()\n",
        "print(list(map(lambda x:2**x, [1,2,3,4,5]))) #lambdaでdefなしに関数を作れる lambda 戻り値:処理"
      ],
      "metadata": {
        "colab": {
          "base_uri": "https://localhost:8080/"
        },
        "id": "eG77FkMgUNJX",
        "outputId": "83a508b5-d351-4559-9410-5b429a703a4e"
      },
      "execution_count": 21,
      "outputs": [
        {
          "output_type": "stream",
          "name": "stdout",
          "text": [
            "[1, 2, 3, 4, 5, 6, 7, 8, 9]\n",
            "[2, 4, 8, 16, 32]\n"
          ]
        }
      ]
    },
    {
      "cell_type": "code",
      "source": [
        "#p.10-11\n",
        "def sumrange(n):\n",
        "  if n == 0:\n",
        "    return 0\n",
        "  else:\n",
        "    sumval = n + sumrange(n-1) #再帰関数＝関数の中で関数を使う\n",
        "    print(n,sumval)\n",
        "  return sumval\n",
        "\n",
        "result = sumrange(4)\n",
        "\n",
        "def sumrange(n): #再帰関数では無限ループやエラーに陥らないように気を付ける\n",
        "  if n == 0: #0のときなどは注意\n",
        "    return 0\n",
        "  else:\n",
        "    return n + sumrange(n-1)\n",
        "\n",
        "result = sumrange(4)\n",
        "print(result)"
      ],
      "metadata": {
        "colab": {
          "base_uri": "https://localhost:8080/"
        },
        "id": "5K33I2HyWm-i",
        "outputId": "faa84a7a-6d8d-40b5-8b0d-94a5355cf6d1"
      },
      "execution_count": 4,
      "outputs": [
        {
          "output_type": "stream",
          "name": "stdout",
          "text": [
            "1 1\n",
            "2 3\n",
            "3 6\n",
            "4 10\n",
            "10\n"
          ]
        }
      ]
    },
    {
      "cell_type": "code",
      "source": [
        "#p.12-15\n",
        "def func(x): #プログラムの途中で関数が呼び出されるとそのプログラムは中断し、関数が実行される\n",
        "  print('in func',x)\n",
        "  return x*2\n",
        "\n",
        "x = 2\n",
        "print('before func',x) #x=2\n",
        "x = func(x) #x*2=4\n",
        "print('after func',x) #x=4\n",
        "\n",
        "def inner1(x):\n",
        "  print('inner2',x)\n",
        "  return x+1\n",
        "\n",
        "def func(x):\n",
        "  print('before inner1',x)\n",
        "  x = inner1(x) #ここでfunc関数は一旦停止してinner関数が実行される\n",
        "  print('after inner1',x)\n",
        "  return x*2\n",
        "\n",
        "x = 2\n",
        "print('before func',x) #x=2\n",
        "x = func(x) #func→inner\n",
        "print('after func',x)"
      ],
      "metadata": {
        "colab": {
          "base_uri": "https://localhost:8080/"
        },
        "id": "wuBOrP45X5af",
        "outputId": "534100fd-f3b5-4ef2-cd11-899b11459d16"
      },
      "execution_count": 25,
      "outputs": [
        {
          "output_type": "stream",
          "name": "stdout",
          "text": [
            "before func 2\n",
            "in func 2\n",
            "after func 4\n",
            "before func 2\n",
            "before inner1 2\n",
            "inner2 2\n",
            "after inner1 3\n",
            "after func 6\n"
          ]
        }
      ]
    }
  ]
}