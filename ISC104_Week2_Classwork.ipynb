{
  "nbformat": 4,
  "nbformat_minor": 0,
  "metadata": {
    "colab": {
      "provenance": [],
      "authorship_tag": "ABX9TyNiStC+AS7RzUzY3Uybnrdz",
      "include_colab_link": true
    },
    "kernelspec": {
      "name": "python3",
      "display_name": "Python 3"
    },
    "language_info": {
      "name": "python"
    }
  },
  "cells": [
    {
      "cell_type": "markdown",
      "metadata": {
        "id": "view-in-github",
        "colab_type": "text"
      },
      "source": [
        "<a href=\"https://colab.research.google.com/github/maa1and/maa1and/blob/main/ISC104_Week2_Classwork.ipynb\" target=\"_parent\"><img src=\"https://colab.research.google.com/assets/colab-badge.svg\" alt=\"Open In Colab\"/></a>"
      ]
    },
    {
      "cell_type": "code",
      "execution_count": 11,
      "metadata": {
        "colab": {
          "base_uri": "https://localhost:8080/"
        },
        "id": "i7AAapQGyLXi",
        "outputId": "74809227-cbb7-45f9-8813-2a86ab5dd639"
      },
      "outputs": [
        {
          "output_type": "stream",
          "name": "stdout",
          "text": [
            "0\n",
            "1\n",
            "2\n"
          ]
        }
      ],
      "source": [
        "#p10\n",
        "for i in range(3):\n",
        "#for in range（）は0から数えた要素の数で、ここでは0-2\n",
        "  print(i)"
      ]
    },
    {
      "cell_type": "code",
      "source": [
        "#p11\n",
        "counter = 0\n",
        "for i in range(3):\n",
        "#iを3で割った時の余りが0の時にcounter変数に+1される\n",
        "  if i%3 == 0:\n",
        "    counter+=1\n",
        "    print(counter)"
      ],
      "metadata": {
        "colab": {
          "base_uri": "https://localhost:8080/"
        },
        "id": "sG_u5q3k0kC3",
        "outputId": "e71c46df-f9e0-483f-f854-6d94419f2911"
      },
      "execution_count": 12,
      "outputs": [
        {
          "output_type": "stream",
          "name": "stdout",
          "text": [
            "1\n"
          ]
        }
      ]
    },
    {
      "cell_type": "code",
      "source": [
        "#p12\n",
        "for i in range(10):\n",
        "  print(\"i\", i)\n",
        "  print(\"twice of i\", i*2)\n",
        "print(\"end of for loop\")\n",
        "#pythonは文字と数字を同時に表示できる\n",
        "#,でスペースを作る\n",
        "print(i)"
      ],
      "metadata": {
        "colab": {
          "base_uri": "https://localhost:8080/"
        },
        "id": "dVirewTf0mhK",
        "outputId": "7c3cb723-8a03-4ebe-d7f2-1713fa2b749c"
      },
      "execution_count": 19,
      "outputs": [
        {
          "output_type": "stream",
          "name": "stdout",
          "text": [
            "i 0\n",
            "twice of i 0\n",
            "i 1\n",
            "twice of i 2\n",
            "i 2\n",
            "twice of i 4\n",
            "i 3\n",
            "twice of i 6\n",
            "i 4\n",
            "twice of i 8\n",
            "i 5\n",
            "twice of i 10\n",
            "i 6\n",
            "twice of i 12\n",
            "i 7\n",
            "twice of i 14\n",
            "i 8\n",
            "twice of i 16\n",
            "i 9\n",
            "twice of i 18\n",
            "end of for loop\n",
            "9\n",
            "あ 2\n"
          ]
        }
      ]
    },
    {
      "cell_type": "code",
      "source": [
        "#p13\n",
        "for i in range(10):\n",
        "  if i % 2 == 0:\n",
        "    print(\"even number\",i)\n",
        "  else:\n",
        "    print(\"odd number\",i)\n",
        "#毎回iが表示されるようにした\n",
        "print(i)"
      ],
      "metadata": {
        "colab": {
          "base_uri": "https://localhost:8080/"
        },
        "id": "SDOfjXou13yb",
        "outputId": "3d57e002-13e2-4de9-9a80-27d770283cb4"
      },
      "execution_count": 16,
      "outputs": [
        {
          "output_type": "stream",
          "name": "stdout",
          "text": [
            "even number 0\n",
            "odd number 1\n",
            "even number 2\n",
            "odd number 3\n",
            "even number 4\n",
            "odd number 5\n",
            "even number 6\n",
            "odd number 7\n",
            "even number 8\n",
            "odd number 9\n",
            "9\n"
          ]
        }
      ]
    },
    {
      "cell_type": "code",
      "source": [
        "#p14\n",
        "sumval = 0\n",
        "for num in range(10):\n",
        "  sumval += num\n",
        "  print(sumval)\n",
        "#前の数に次の数を足していく\n",
        "\n",
        "counter = 0\n",
        "for num in range(100):\n",
        "  if num % 13 == 0:\n",
        "    counter += 1\n",
        "print(counter)\n",
        "#numを13で割った時の余りが0の時にcounter変数に+1される"
      ],
      "metadata": {
        "colab": {
          "base_uri": "https://localhost:8080/"
        },
        "id": "Iyjr0z4175wb",
        "outputId": "787420dc-e61e-4256-bb2e-09837468fb1d"
      },
      "execution_count": 28,
      "outputs": [
        {
          "output_type": "stream",
          "name": "stdout",
          "text": [
            "0\n",
            "1\n",
            "3\n",
            "6\n",
            "10\n",
            "15\n",
            "21\n",
            "28\n",
            "36\n",
            "45\n",
            "8\n"
          ]
        }
      ]
    },
    {
      "cell_type": "code",
      "source": [
        "#p15\n",
        "for x in range(10):\n",
        "  quad = x**2-4*x+8\n",
        "#a**bはaのb乗\n",
        "  print(x, quad)\n",
        "\n",
        "tmpmin = 8\n",
        "for x in range(10):\n",
        "  quad = x**2-4*x+8\n",
        "  if quad < tmpmin:\n",
        "    tmpmin = quad\n",
        "    print(x,quad,tmpmin)\n",
        "print(\"minval\", tmpmin)"
      ],
      "metadata": {
        "colab": {
          "base_uri": "https://localhost:8080/"
        },
        "id": "IoJSe_bj8thA",
        "outputId": "ad7dbcba-2117-46b9-debb-7328b296b4f9"
      },
      "execution_count": 33,
      "outputs": [
        {
          "output_type": "stream",
          "name": "stdout",
          "text": [
            "0 8\n",
            "1 5\n",
            "2 4\n",
            "3 5\n",
            "4 8\n",
            "5 13\n",
            "6 20\n",
            "7 29\n",
            "8 40\n",
            "9 53\n",
            "1 5 5\n",
            "2 4 4\n",
            "minval 4\n"
          ]
        }
      ]
    },
    {
      "cell_type": "code",
      "source": [
        "#p16\n",
        "counter = 0\n",
        "while counter < 10:\n",
        "#whileは条件を満たす間ループする\n",
        "  print(counter)\n",
        "  counter += 1\n",
        "print(\"escaped from while loop\")"
      ],
      "metadata": {
        "colab": {
          "base_uri": "https://localhost:8080/"
        },
        "id": "_7pkWdaa-g5P",
        "outputId": "93f1829c-884e-4e73-89b6-4c19fa5eee82"
      },
      "execution_count": 34,
      "outputs": [
        {
          "output_type": "stream",
          "name": "stdout",
          "text": [
            "0\n",
            "1\n",
            "2\n",
            "3\n",
            "4\n",
            "5\n",
            "6\n",
            "7\n",
            "8\n",
            "9\n",
            "escaped from while loop\n"
          ]
        }
      ]
    },
    {
      "cell_type": "code",
      "source": [
        "#18\n",
        "for i in range(100):\n",
        "  quad = x**2-4*x+8\n",
        "  if quad < 0:\n",
        "    break\n",
        "#breakは条件を満たすときループを終了する\n",
        "print(quad)"
      ],
      "metadata": {
        "colab": {
          "base_uri": "https://localhost:8080/"
        },
        "id": "UcxZg2Vm-3Y5",
        "outputId": "842ea617-3436-44b8-ee23-a54c5c07f8f7"
      },
      "execution_count": 35,
      "outputs": [
        {
          "output_type": "stream",
          "name": "stdout",
          "text": [
            "53\n"
          ]
        }
      ]
    },
    {
      "cell_type": "code",
      "source": [
        "#p19\n",
        "for x in range(9):\n",
        "  for y in range(9):\n",
        "    print(x+1, \"times\", y+1, \"equals\", (x+1)*(y+1))\n",
        "#ネストの中でfor処理を一周する"
      ],
      "metadata": {
        "colab": {
          "base_uri": "https://localhost:8080/"
        },
        "id": "nI1dvndr_VI8",
        "outputId": "33cb7fc7-6352-4ad6-bd72-565c72ad869f"
      },
      "execution_count": 36,
      "outputs": [
        {
          "output_type": "stream",
          "name": "stdout",
          "text": [
            "1 times 1 equals 1\n",
            "1 times 2 equals 2\n",
            "1 times 3 equals 3\n",
            "1 times 4 equals 4\n",
            "1 times 5 equals 5\n",
            "1 times 6 equals 6\n",
            "1 times 7 equals 7\n",
            "1 times 8 equals 8\n",
            "1 times 9 equals 9\n",
            "2 times 1 equals 2\n",
            "2 times 2 equals 4\n",
            "2 times 3 equals 6\n",
            "2 times 4 equals 8\n",
            "2 times 5 equals 10\n",
            "2 times 6 equals 12\n",
            "2 times 7 equals 14\n",
            "2 times 8 equals 16\n",
            "2 times 9 equals 18\n",
            "3 times 1 equals 3\n",
            "3 times 2 equals 6\n",
            "3 times 3 equals 9\n",
            "3 times 4 equals 12\n",
            "3 times 5 equals 15\n",
            "3 times 6 equals 18\n",
            "3 times 7 equals 21\n",
            "3 times 8 equals 24\n",
            "3 times 9 equals 27\n",
            "4 times 1 equals 4\n",
            "4 times 2 equals 8\n",
            "4 times 3 equals 12\n",
            "4 times 4 equals 16\n",
            "4 times 5 equals 20\n",
            "4 times 6 equals 24\n",
            "4 times 7 equals 28\n",
            "4 times 8 equals 32\n",
            "4 times 9 equals 36\n",
            "5 times 1 equals 5\n",
            "5 times 2 equals 10\n",
            "5 times 3 equals 15\n",
            "5 times 4 equals 20\n",
            "5 times 5 equals 25\n",
            "5 times 6 equals 30\n",
            "5 times 7 equals 35\n",
            "5 times 8 equals 40\n",
            "5 times 9 equals 45\n",
            "6 times 1 equals 6\n",
            "6 times 2 equals 12\n",
            "6 times 3 equals 18\n",
            "6 times 4 equals 24\n",
            "6 times 5 equals 30\n",
            "6 times 6 equals 36\n",
            "6 times 7 equals 42\n",
            "6 times 8 equals 48\n",
            "6 times 9 equals 54\n",
            "7 times 1 equals 7\n",
            "7 times 2 equals 14\n",
            "7 times 3 equals 21\n",
            "7 times 4 equals 28\n",
            "7 times 5 equals 35\n",
            "7 times 6 equals 42\n",
            "7 times 7 equals 49\n",
            "7 times 8 equals 56\n",
            "7 times 9 equals 63\n",
            "8 times 1 equals 8\n",
            "8 times 2 equals 16\n",
            "8 times 3 equals 24\n",
            "8 times 4 equals 32\n",
            "8 times 5 equals 40\n",
            "8 times 6 equals 48\n",
            "8 times 7 equals 56\n",
            "8 times 8 equals 64\n",
            "8 times 9 equals 72\n",
            "9 times 1 equals 9\n",
            "9 times 2 equals 18\n",
            "9 times 3 equals 27\n",
            "9 times 4 equals 36\n",
            "9 times 5 equals 45\n",
            "9 times 6 equals 54\n",
            "9 times 7 equals 63\n",
            "9 times 8 equals 72\n",
            "9 times 9 equals 81\n"
          ]
        }
      ]
    },
    {
      "cell_type": "code",
      "source": [
        "import random\n",
        "for i in range(10):\n",
        "  random_number = random.randint(1,6)\n",
        "  print(random_number)\n",
        "#関数はいろいろある"
      ],
      "metadata": {
        "colab": {
          "base_uri": "https://localhost:8080/"
        },
        "id": "BjpazQsiBIuy",
        "outputId": "21fe18c0-c729-49ca-b3ff-96fb70630dc0"
      },
      "execution_count": 40,
      "outputs": [
        {
          "output_type": "stream",
          "name": "stdout",
          "text": [
            "4\n",
            "2\n",
            "5\n",
            "6\n",
            "3\n",
            "1\n",
            "4\n",
            "5\n",
            "6\n",
            "1\n"
          ]
        }
      ]
    }
  ]
}