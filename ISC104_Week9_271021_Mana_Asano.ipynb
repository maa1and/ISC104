{
  "nbformat": 4,
  "nbformat_minor": 0,
  "metadata": {
    "colab": {
      "provenance": [],
      "authorship_tag": "ABX9TyNY0eP036fShGXdLYjNArsu",
      "include_colab_link": true
    },
    "kernelspec": {
      "name": "python3",
      "display_name": "Python 3"
    },
    "language_info": {
      "name": "python"
    }
  },
  "cells": [
    {
      "cell_type": "markdown",
      "metadata": {
        "id": "view-in-github",
        "colab_type": "text"
      },
      "source": [
        "<a href=\"https://colab.research.google.com/github/maa1and/ISC104/blob/main/ISC104_Week9_271021_Mana_Asano.ipynb\" target=\"_parent\"><img src=\"https://colab.research.google.com/assets/colab-badge.svg\" alt=\"Open In Colab\"/></a>"
      ]
    },
    {
      "cell_type": "code",
      "execution_count": null,
      "metadata": {
        "colab": {
          "base_uri": "https://localhost:8080/"
        },
        "id": "9XWexU_4icPi",
        "outputId": "e81254f3-b11f-423d-ef1e-0bfc0aef8ef2"
      },
      "outputs": [
        {
          "output_type": "stream",
          "name": "stdout",
          "text": [
            "[0]\n",
            "[0, -1, 0, -1, 0, -1, -2, -1, -2, -3, -4]\n",
            "2\n",
            "[0, 1, 2, 3, 4, 3, 4, 5, 6, 5, 4]\n",
            "[4, 5, 6, 5, 4, 3, 4, 3, 2, 1, 0]\n",
            "[0, 1, 2, 3, 4, 3, 4, 5, 6, 5, 4]\n"
          ]
        }
      ],
      "source": [
        "#EX9_1 randomwalkクラス\n",
        "import random\n",
        "class RandomWalk():\n",
        "  def __init__(self):\n",
        "    self.path = [0]\n",
        "\n",
        "  def addwalk(self,len): #Randomwalk関数\n",
        "    for i in range(len):\n",
        "      rn = random.choice([-1,1]) +self.path[-1]\n",
        "      self.path.append(rn)\n",
        "\n",
        "myrw = RandomWalk()\n",
        "print(myrw.path)\n",
        "myrw.addwalk(10)\n",
        "print(myrw.path)\n",
        "\n",
        "#EX9_2 path attributeの最後の文字を返す関数を追加\n",
        "class RandomWalk():\n",
        "  def __init__(self):\n",
        "    self.path = [0]\n",
        "\n",
        "  def addwalk(self,len):\n",
        "    for i in range(len):\n",
        "      rn = random.choice([-1,1]) +self.path[-1]\n",
        "      self.path.append(rn)\n",
        "\n",
        "  def lastpos(self):\n",
        "      return self.path[-1] #後ろから1番目の要素\n",
        "\n",
        "myrw = RandomWalk()\n",
        "myrw.addwalk(10)\n",
        "print(myrw.lastpos())\n",
        "\n",
        "#EX9_3 逆順にして返す関数を追加\n",
        "class RandomWalk():\n",
        "  def __init__(self):\n",
        "    self.path = [0]\n",
        "\n",
        "  def addwalk(self,len):\n",
        "    for i in range(len):\n",
        "      rn = random.choice([-1,1]) +self.path[-1]\n",
        "      self.path.append(rn)\n",
        "\n",
        "  def lastpos(self):\n",
        "      return self.path[-1]\n",
        "\n",
        "  def reversed(self):\n",
        "      reversed_path = []\n",
        "      for i in range(len(self.path)-1,-1,-1): #逆順に並べる\n",
        "        reversed_path.append(self.path[i])\n",
        "      return reversed_path\n",
        "\n",
        "rw = RandomWalk()\n",
        "rw.addwalk(10)\n",
        "print(rw.path)\n",
        "print(rw.reversed())\n",
        "print(rw.path)"
      ]
    },
    {
      "cell_type": "code",
      "source": [
        "#EX9_4_a コインの計算をするクラス\n",
        "class CoinPurse():\n",
        "  coindict = {}\n",
        "  def __init__(self):\n",
        "    self.coindict = {1:0, 5:0, 10:0, 50:0, 100:0, 500:0} #コインの種類をkey、コインの枚数をvalueとする\n",
        "\n",
        "  def add_coins(self, coin, num_coin): #コインの加算を行う関数\n",
        "    if coin in self.coindict:\n",
        "      self.coindict[coin] += num_coin\n",
        "\n",
        "  def withdraw_coins(self, coin, num_coin): #コインの減算を行う関数\n",
        "    if coin in self.coindict:\n",
        "      if self.coindict[coin] - num_coin > 0:\n",
        "        self.coindict[coin] -= num_coin\n",
        "      else: #支払い不可の場合\n",
        "        self.coindict[coin] = 0 #カウンターをリセット\n",
        "        print(\"cannot pay\")\n",
        "\n",
        "  def check(self): #最終会計をする関数\n",
        "    total = 0\n",
        "    for coin, cointype in self.coindict.items():\n",
        "      total += coin * cointype\n",
        "    return(total)\n",
        "\n",
        "mypurse = CoinPurse()\n",
        "mypurse.add_coins(10,3)\n",
        "mypurse.add_coins(100,2)\n",
        "mypurse.add_coins(5,2)\n",
        "print(mypurse.check())\n",
        "\n",
        "mypurse.withdraw_coins(100,1)\n",
        "print(mypurse.check())\n",
        "mypurse.withdraw_coins(100,2)\n",
        "\n",
        "#EX9_4_b\n",
        "#ごめんなさい"
      ],
      "metadata": {
        "colab": {
          "base_uri": "https://localhost:8080/"
        },
        "id": "z8tanPKDLiCX",
        "outputId": "d4f66c3f-5d9a-49d8-c0e9-8ba4c65bdb75"
      },
      "execution_count": null,
      "outputs": [
        {
          "output_type": "stream",
          "name": "stdout",
          "text": [
            "240\n",
            "140\n",
            "cannot pay\n"
          ]
        }
      ]
    },
    {
      "cell_type": "code",
      "source": [
        "#EX9_5 ランダムにアルファベット1文字を選ぶ関数\n",
        "import random\n",
        "alplist = list(map(chr,list(range(ord('a'),ord('z')+1)))) #a~zのリスト\n",
        "def nrn_alp():\n",
        "    return random.choice(alplist)\n",
        "print(nrn_alp())\n",
        "\n",
        "#EX9_6 ランダムにアルファベットn文字を選ぶ関数\n",
        "def rndalp(n):\n",
        "  strings = \"\" #空文字を設定\n",
        "  for i in range(n):\n",
        "    char = random.choice(alplist)\n",
        "    strings += char\n",
        "  return strings\n",
        "\n",
        "print(rndalp(5))\n",
        "\n",
        "#EX9_7 ランダムに生成したアルファベットのペアが(x,y)に一致するまでの回数をカウントする関数\n",
        "import itertools\n",
        "count = 0\n",
        "for combi in itertools.product(alplist, repeat=2):\n",
        "  count += 1\n",
        "  if combi == (\"x\", \"z\"):\n",
        "    print(combi)\n",
        "    break\n",
        "print(count)\n",
        "\n",
        "#EX9_8_a 生成したパスワードに一致するまでの回数をカウントする関数\n",
        "def crack_pass(password):\n",
        "  attempt_count = 0\n",
        "  lenpass = len(password)\n",
        "  for combi in itertools.product(alplist, repeat=lenpass):\n",
        "    attempt_count += 1\n",
        "    if ''.join(combi) == password:\n",
        "      return combi, attempt_count\n",
        "  return -1\n",
        "\n",
        "password = rndalp(4) #4文字のパスワードを設定\n",
        "print(crack_pass(password))\n",
        "\n",
        "#9_8_b パスワードの長さによって回数の違いを調べる\n",
        "for i in range(1,6):\n",
        "  password = (rndalp(i))\n",
        "  print(crack_pass(password))\n",
        "\n",
        "#9_8_c n文字の数字のパスワードを生成し、アルファベットの場合と比べる\n",
        "numlist = [\"0\",\"1\",\"2\",\"3\",\"4\",\"5\",\"6\",\"7\",\"8\",\"9\"]\n",
        "def nrnnum(n):\n",
        "  nums = \"\"\n",
        "  for i in range(n):\n",
        "    num = random.choice(numlist)\n",
        "    nums += num\n",
        "  return nums\n",
        "print(nrnnum(4))\n",
        "\n",
        "def crack_pass(password):\n",
        "  attempt_count = 0\n",
        "  lenpass = len(password)\n",
        "  for combi in itertools.product(numlist, repeat=lenpass):\n",
        "    attempt_count += 1\n",
        "    if ''.join(combi) == password:\n",
        "      return combi, attempt_count\n",
        "  return -1\n",
        "\n",
        "for i in range(1,6):\n",
        "  password = (nrnnum(i))\n",
        "  print(crack_pass(password))"
      ],
      "metadata": {
        "colab": {
          "base_uri": "https://localhost:8080/"
        },
        "id": "R8Rc8PsVH5Kl",
        "outputId": "a73f9577-1c96-4220-9773-86da34503520"
      },
      "execution_count": 12,
      "outputs": [
        {
          "output_type": "stream",
          "name": "stdout",
          "text": [
            "f\n",
            "hwbbx\n",
            "('x', 'z')\n",
            "624\n",
            "(('u', 'q', 'g', 'f'), 362498)\n",
            "(('v',), 22)\n",
            "(('c', 'z'), 78)\n",
            "(('n', 'v', 'e'), 9339)\n",
            "(('e', 't', 's', 'a'), 83617)\n",
            "(('s', 'c', 'o', 'a', 'p'), 8270200)\n",
            "2429\n",
            "(('9',), 10)\n",
            "(('3', '2'), 33)\n",
            "(('5', '1', '3'), 514)\n",
            "(('1', '5', '6', '1'), 1562)\n",
            "(('9', '7', '5', '5', '5'), 97556)\n"
          ]
        }
      ]
    },
    {
      "cell_type": "code",
      "source": [
        "#EX9_9 授業をkey、時間割をvalueとする辞書を作る\n",
        "import itertools\n",
        "coursedict = {}\n",
        "f = open(\"/courselist-short.csv\", \"r\")\n",
        "for line in f: #1行ごとに処理\n",
        "  elms = line.strip().split(\",\")\n",
        "  coursedict[elms.pop(0)] = elms #1つ目の要素をkey、残りをvalueとしてcoursedictに格納\n",
        "print(coursedict)\n",
        "\n",
        "#EX9_10 時間割が重複している授業を表示する\n",
        "combi_class = itertools.combinations(coursedict.keys(), 2) #授業(=coursedictのkey)のペアを作る\n",
        "for course1, course2 in combi_class:\n",
        "  timetable1 = coursedict[course1] #時間割を取得\n",
        "  timetable2 = coursedict[course2]\n",
        "  mergelist = timetable1 + timetable2\n",
        "  if len(mergelist) != len(set(mergelist)): #重複要素があった場合条件が成り立つ\n",
        "    print(f\"Courses {course1} and {course2} have overlapping\")"
      ],
      "metadata": {
        "id": "AQRtuBZ5gLIu",
        "colab": {
          "base_uri": "https://localhost:8080/"
        },
        "outputId": "5e88b390-b4c1-4ad7-e3c2-e479a0511d6f"
      },
      "execution_count": 26,
      "outputs": [
        {
          "output_type": "stream",
          "name": "stdout",
          "text": [
            "{'ISC022': ['5F', '6F', '7F'], 'ECO216': ['4M', '4W', '4F'], 'CHM321': ['5M', '6M', '7M'], 'DUM000': ['5M', '5W', '5F']}\n",
            "Courses ISC022 and DUM000 have overlapping\n",
            "Courses CHM321 and DUM000 have overlapping\n"
          ]
        }
      ]
    }
  ]
}