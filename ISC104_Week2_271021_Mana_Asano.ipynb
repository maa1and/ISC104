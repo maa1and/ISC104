{
  "nbformat": 4,
  "nbformat_minor": 0,
  "metadata": {
    "colab": {
      "provenance": [],
      "authorship_tag": "ABX9TyN1BzKEThlcqUKsglUfepeG",
      "include_colab_link": true
    },
    "kernelspec": {
      "name": "python3",
      "display_name": "Python 3"
    },
    "language_info": {
      "name": "python"
    }
  },
  "cells": [
    {
      "cell_type": "markdown",
      "metadata": {
        "id": "view-in-github",
        "colab_type": "text"
      },
      "source": [
        "<a href=\"https://colab.research.google.com/github/maa1and/maa1and/blob/main/ISC104_Week2_271021_Mana_Asano.ipynb\" target=\"_parent\"><img src=\"https://colab.research.google.com/assets/colab-badge.svg\" alt=\"Open In Colab\"/></a>"
      ]
    },
    {
      "cell_type": "code",
      "execution_count": 3,
      "metadata": {
        "colab": {
          "base_uri": "https://localhost:8080/"
        },
        "id": "4e3ERPKxC1qa",
        "outputId": "111fa6e0-f4ad-48ae-e4e4-848d07d6a814"
      },
      "outputs": [
        {
          "output_type": "stream",
          "name": "stdout",
          "text": [
            "0\n",
            "multiple three\n",
            "1\n",
            "2\n",
            "3\n",
            "multiple three\n",
            "4\n",
            "5\n",
            "6\n",
            "multiple three\n",
            "7\n",
            "8\n",
            "9\n",
            "multiple three\n"
          ]
        }
      ],
      "source": [
        "#EX2_1 0~9までの整数を列挙し、iが3で割り切れる場合は文字列を表示する\n",
        "for i in range (10):\n",
        "  print(i)\n",
        "  if i % 3 == 0:\n",
        "    print(\"multiple three\")"
      ]
    },
    {
      "cell_type": "code",
      "source": [
        "#EX2_2 6/1 + 6/2 + 3/6 ... 6/6の和を求める\n",
        "sumval = 0\n",
        "for i in range(1, 7): #6/nに1~6を代入\n",
        "  sumval += 6 / i\n",
        "  print(sumval)\n",
        "#計算結果が14.7になることを確認"
      ],
      "metadata": {
        "colab": {
          "base_uri": "https://localhost:8080/"
        },
        "id": "dewxf2RPEY_i",
        "outputId": "410ac141-0619-410e-ab54-9b113cf756c3"
      },
      "execution_count": 7,
      "outputs": [
        {
          "output_type": "stream",
          "name": "stdout",
          "text": [
            "6.0\n",
            "9.0\n",
            "11.0\n",
            "12.5\n",
            "13.7\n",
            "14.7\n"
          ]
        }
      ]
    },
    {
      "cell_type": "code",
      "source": [
        "#EX2_3 1*1 ~ 9*9のうち12の倍数はいくつあるかを数える\n",
        "counter = 0\n",
        "for n in range(1, 10):\n",
        "  for m in range(1, 10):\n",
        "    multiple = n * m\n",
        "    if multiple % 12 ==0:\n",
        "      counter += 1\n",
        "print(counter)\n",
        "#計算結果が15になることを確認"
      ],
      "metadata": {
        "colab": {
          "base_uri": "https://localhost:8080/"
        },
        "id": "iQ36DZADFSJz",
        "outputId": "9b5cfe69-1673-48f8-a13a-97a55140c19b"
      },
      "execution_count": 11,
      "outputs": [
        {
          "output_type": "stream",
          "name": "stdout",
          "text": [
            "15\n"
          ]
        }
      ]
    },
    {
      "cell_type": "code",
      "source": [
        "#EX2_4 0~9までの整数を表示し、条件に応じた文字列を表示する\n",
        "for i in range (0, 20):\n",
        "  print(i)\n",
        "  if i % 3 == 0 and i % 5 != 0: #3で割り切れて5で割り切れない場合\n",
        "    print(\"Fizz\")\n",
        "  if i % 5 == 0 and i % 3 != 0: #5で割り切れて3で割り切れない場合\n",
        "    print(\"Buzz\")\n",
        "  if i % 5 == 0 and i % 3 == 0: #3でも5でも割り切れる場合\n",
        "    print(\"FizzBuzz\")"
      ],
      "metadata": {
        "colab": {
          "base_uri": "https://localhost:8080/"
        },
        "id": "iqaXYSLnHwNz",
        "outputId": "54c10305-de87-432b-a0c7-232d86c61a41"
      },
      "execution_count": 44,
      "outputs": [
        {
          "output_type": "stream",
          "name": "stdout",
          "text": [
            "0\n",
            "FizzBuzz\n",
            "1\n",
            "2\n",
            "3\n",
            "Fizz\n",
            "4\n",
            "5\n",
            "Buzz\n",
            "6\n",
            "Fizz\n",
            "7\n",
            "8\n",
            "9\n",
            "Fizz\n",
            "10\n",
            "Buzz\n",
            "11\n",
            "12\n",
            "Fizz\n",
            "13\n",
            "14\n",
            "15\n",
            "FizzBuzz\n",
            "16\n",
            "17\n",
            "18\n",
            "Fizz\n",
            "19\n"
          ]
        }
      ]
    },
    {
      "cell_type": "code",
      "source": [
        "#EX2_5 0<n<1となる乱数を10個表示し、そのうち最小となる数を求める\n",
        "import random\n",
        "tmpmin = 1\n",
        "counter = 1 #生成した乱数にナンバリングする\n",
        "for i in range(10):\n",
        "  random_number = random.random()\n",
        "  print(counter, random_number)\n",
        "  counter += 1\n",
        "  if random_number < tmpmin: #最小値を更新\n",
        "    tmpmin = random_number\n",
        "print(\"最小値:\", tmpmin)"
      ],
      "metadata": {
        "colab": {
          "base_uri": "https://localhost:8080/"
        },
        "id": "Du0MenZ2Ihwz",
        "outputId": "4f1b850c-cb0a-439a-df09-d2af8ce716a1"
      },
      "execution_count": 53,
      "outputs": [
        {
          "output_type": "stream",
          "name": "stdout",
          "text": [
            "1 0.7386205859220839\n",
            "2 0.9896531853173418\n",
            "3 0.6377036936172092\n",
            "4 0.318793800413228\n",
            "5 0.7702240463268043\n",
            "6 0.8734152978528671\n",
            "7 0.30314081936436454\n",
            "8 0.8258164621250196\n",
            "9 0.03846246987420476\n",
            "10 0.8687696020210444\n",
            "最小値: 0.03846246987420476\n"
          ]
        }
      ]
    },
    {
      "cell_type": "code",
      "source": [
        "#EX2_6 EX2_5を10セット行い、それぞれの最小値を求める\n",
        "import random\n",
        "set_counter = 1 #何セット目かを数えるための変数\n",
        "number_counter = 1 #生成した乱数にナンバリングするための変数\n",
        "for i in range(10):\n",
        "  for k in range(10):\n",
        "    tmpmin = 1\n",
        "    random_number = random.random()\n",
        "    print(set_counter, \"-\", number_counter, random_number)\n",
        "    number_counter += 1\n",
        "    if random_number < tmpmin:\n",
        "      tmpmin = random_number #乱数によって最小値が更新された場合tmpminの値を更新\n",
        "  set_counter += 1\n",
        "  number_counter = 1 #次のセットに行く前にリセットする\n",
        "  print(\"最小値:\", tmpmin)\n",
        "#生成回数ごとに最小値は変化することを確認"
      ],
      "metadata": {
        "colab": {
          "base_uri": "https://localhost:8080/"
        },
        "id": "NIrBMggJJ4MC",
        "outputId": "46af173f-9621-42cd-cdff-64faa4b224af"
      },
      "execution_count": 58,
      "outputs": [
        {
          "output_type": "stream",
          "name": "stdout",
          "text": [
            "1 - 1 0.05970372678758573\n",
            "1 - 2 0.8812763927617154\n",
            "1 - 3 0.7010481859198313\n",
            "1 - 4 0.8212491349742232\n",
            "1 - 5 0.47193143439878704\n",
            "1 - 6 0.1754050624353335\n",
            "1 - 7 0.847717557921008\n",
            "1 - 8 0.09761302241234926\n",
            "1 - 9 0.810739969458637\n",
            "1 - 10 0.45060217680523174\n",
            "最小値: 0.45060217680523174\n",
            "2 - 1 0.23368648462262942\n",
            "2 - 2 0.347627902629181\n",
            "2 - 3 0.7667608653073252\n",
            "2 - 4 0.46857409728663324\n",
            "2 - 5 0.31143558711807173\n",
            "2 - 6 0.7699803698910571\n",
            "2 - 7 0.9765958730228715\n",
            "2 - 8 0.9871074256275999\n",
            "2 - 9 0.48663186723247354\n",
            "2 - 10 0.1621533355587501\n",
            "最小値: 0.1621533355587501\n",
            "3 - 1 0.4171660875717347\n",
            "3 - 2 0.048292770124050644\n",
            "3 - 3 0.10423357854504944\n",
            "3 - 4 0.3551689452331128\n",
            "3 - 5 0.6711306522131709\n",
            "3 - 6 0.7610502306184466\n",
            "3 - 7 0.13736783184211798\n",
            "3 - 8 0.026790615387241368\n",
            "3 - 9 0.43788605176833284\n",
            "3 - 10 0.5542595878946465\n",
            "最小値: 0.5542595878946465\n",
            "4 - 1 0.4693877259153224\n",
            "4 - 2 0.11410997553477842\n",
            "4 - 3 0.016232468330287686\n",
            "4 - 4 0.07820525485895669\n",
            "4 - 5 0.061818065072957507\n",
            "4 - 6 0.20557969281700605\n",
            "4 - 7 0.3309538975304388\n",
            "4 - 8 0.7098158409611466\n",
            "4 - 9 0.3224385844647518\n",
            "4 - 10 0.4754193838030878\n",
            "最小値: 0.4754193838030878\n",
            "5 - 1 0.43308561194234174\n",
            "5 - 2 0.5661010089989897\n",
            "5 - 3 0.6001280409027636\n",
            "5 - 4 0.9962637230789668\n",
            "5 - 5 0.26079039983738495\n",
            "5 - 6 0.2865010845788617\n",
            "5 - 7 0.0714418667297485\n",
            "5 - 8 0.3291863546731586\n",
            "5 - 9 0.297448437828579\n",
            "5 - 10 0.5724304204859587\n",
            "最小値: 0.5724304204859587\n",
            "6 - 1 0.13797635393459107\n",
            "6 - 2 0.9263456271960945\n",
            "6 - 3 0.8491071855995822\n",
            "6 - 4 0.8163453142043131\n",
            "6 - 5 0.17270253280060133\n",
            "6 - 6 0.5965179202217817\n",
            "6 - 7 0.4158234884416624\n",
            "6 - 8 0.6911031608090978\n",
            "6 - 9 0.40348641424811915\n",
            "6 - 10 0.16110609469912573\n",
            "最小値: 0.16110609469912573\n",
            "7 - 1 0.7793523752698185\n",
            "7 - 2 0.1650720935525819\n",
            "7 - 3 0.06453160955440895\n",
            "7 - 4 0.8446051004342147\n",
            "7 - 5 0.9178049166648822\n",
            "7 - 6 0.2703661644645028\n",
            "7 - 7 0.9806321908410404\n",
            "7 - 8 0.6382626549208691\n",
            "7 - 9 0.6269742920092567\n",
            "7 - 10 0.4716559246934702\n",
            "最小値: 0.4716559246934702\n",
            "8 - 1 0.8259289184018573\n",
            "8 - 2 0.7850401762753638\n",
            "8 - 3 0.4871916450325251\n",
            "8 - 4 0.8026422851721067\n",
            "8 - 5 0.6147643497919981\n",
            "8 - 6 0.8613393262481097\n",
            "8 - 7 0.3855261378835866\n",
            "8 - 8 0.8218528552522392\n",
            "8 - 9 0.8975997114860796\n",
            "8 - 10 0.47966630269065047\n",
            "最小値: 0.47966630269065047\n",
            "9 - 1 0.6722582947429402\n",
            "9 - 2 0.34924600394467675\n",
            "9 - 3 0.2271630812316392\n",
            "9 - 4 0.9933456957108397\n",
            "9 - 5 0.8272186750189067\n",
            "9 - 6 0.04276677471027868\n",
            "9 - 7 0.029371086920266687\n",
            "9 - 8 0.6088255039409791\n",
            "9 - 9 0.8775602847963722\n",
            "9 - 10 0.07152790709970869\n",
            "最小値: 0.07152790709970869\n",
            "10 - 1 0.47754418298130974\n",
            "10 - 2 0.7528365576070871\n",
            "10 - 3 0.04044890650734978\n",
            "10 - 4 0.06826409887830243\n",
            "10 - 5 0.32620018135601136\n",
            "10 - 6 0.18566392765246986\n",
            "10 - 7 0.7500689857454546\n",
            "10 - 8 0.9400567959556689\n",
            "10 - 9 0.29034837323319707\n",
            "10 - 10 0.3952093217439261\n",
            "最小値: 0.3952093217439261\n"
          ]
        }
      ]
    },
    {
      "cell_type": "code",
      "source": [
        "#EX2_7 10%の確率で表が出るコインを100回投げるとき、表が出る回数を数える\n",
        "import random\n",
        "counter = 0\n",
        "for i in range(100):\n",
        "  coin = [1, 0, 0, 0, 0, 0, 0, 0, 0, 0] #1を表、0を裏とし、表が出る確率に重みをつける\n",
        "  coin_result = random.choice(coin)\n",
        "  if coin_result == 1:\n",
        "    counter += 1\n",
        "print(\"100回の試行のうち、表が出た回数は\", counter, \"回でした\")\n",
        "#何度かプログラムを実行した結果、9~15回になることを確認\n",
        "#確率を調整する時、例えばo.o1%, 0.98%だったらどうすれば良いか？"
      ],
      "metadata": {
        "colab": {
          "base_uri": "https://localhost:8080/"
        },
        "id": "_gTydK0yLYZl",
        "outputId": "c6951070-9d83-4316-f024-7e54ab30436c"
      },
      "execution_count": 84,
      "outputs": [
        {
          "output_type": "stream",
          "name": "stdout",
          "text": [
            "100回の試行のうち、表が出た回数は 10 回でした\n"
          ]
        }
      ]
    },
    {
      "cell_type": "code",
      "source": [
        "#EX2_8 x*(100-x)のxに0~99を代入し、それぞれの計算結果の和を求める\n",
        "sumval = 0\n",
        "for x in range(100):\n",
        "  quad = x * (100 - x)\n",
        "  sumval += quad\n",
        "print(sumval)"
      ],
      "metadata": {
        "colab": {
          "base_uri": "https://localhost:8080/"
        },
        "id": "oGjmobSkPftM",
        "outputId": "17eaa0ff-402f-4b1c-a566-6dd27c0c85d0"
      },
      "execution_count": 87,
      "outputs": [
        {
          "output_type": "stream",
          "name": "stdout",
          "text": [
            "166650\n"
          ]
        }
      ]
    },
    {
      "cell_type": "code",
      "source": [
        "#EX2_9 0<=x<=99の範囲で、x*(100-x)の最小値とそのときのxを求める\n",
        "maxval = 0\n",
        "for x in range(100):\n",
        "  quad = x * (100 - x)\n",
        "  if quad > maxval: #最大値を更新する\n",
        "    maxval = quad\n",
        "    maxcoodinate = x #最大値をとるときのxの値を更新する\n",
        "print(\"x=\", maxcoodinate, \"のとき、最大値:\", maxval)"
      ],
      "metadata": {
        "colab": {
          "base_uri": "https://localhost:8080/"
        },
        "id": "YiT1GfR5RR15",
        "outputId": "60759444-83c5-44c2-fd94-e6aa8e1dc284"
      },
      "execution_count": 93,
      "outputs": [
        {
          "output_type": "stream",
          "name": "stdout",
          "text": [
            "x= 50 のとき、最大値: 2500\n"
          ]
        }
      ]
    },
    {
      "cell_type": "code",
      "source": [
        "#EX2_10 0<=x<=1, 0<=y<=1の範囲で(x,y)をランダムに10000個生成し, x**2+y**2<1となる確率を求める\n",
        "import random\n",
        "counter = 0\n",
        "for i in range(10000):\n",
        "  x = random.random() #xをランダムに生成\n",
        "  y = random.random() #yをランダムに生成\n",
        "  if (x ** 2 + y ** 2 < 1):\n",
        "    counter += 1\n",
        "print((counter / 10000) * 4) #条件を満たした回数を10000で割って4倍する\n",
        "#円周率の近似値である3.14になることを確認"
      ],
      "metadata": {
        "colab": {
          "base_uri": "https://localhost:8080/"
        },
        "id": "1oHLsaSDSwMy",
        "outputId": "ec5a8b0d-e061-4e58-b06d-d7a8b1047e1c"
      },
      "execution_count": 40,
      "outputs": [
        {
          "output_type": "stream",
          "name": "stdout",
          "text": [
            "3.14\n"
          ]
        }
      ]
    }
  ]
}